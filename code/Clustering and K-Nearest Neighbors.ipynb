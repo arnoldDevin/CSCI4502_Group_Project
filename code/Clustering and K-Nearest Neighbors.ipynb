{
 "cells": [
  {
   "cell_type": "code",
   "execution_count": 2,
   "metadata": {},
   "outputs": [
    {
     "name": "stderr",
     "output_type": "stream",
     "text": [
      "/Users/devinarnold/anaconda3/lib/python3.6/site-packages/sklearn/cross_validation.py:41: DeprecationWarning: This module was deprecated in version 0.18 in favor of the model_selection module into which all the refactored classes and functions are moved. Also note that the interface of the new CV iterators are different from that of this module. This module will be removed in 0.20.\n",
      "  \"This module will be removed in 0.20.\", DeprecationWarning)\n"
     ]
    }
   ],
   "source": [
    "import pandas as pd\n",
    "import numpy as np\n",
    "from sklearn.neighbors import KNeighborsClassifier\n",
    "from sklearn.metrics import confusion_matrix, accuracy_score\n",
    "from sklearn.model_selection import cross_val_score\n",
    "from sklearn.preprocessing import LabelEncoder\n",
    "from sklearn.cross_validation import train_test_split\n",
    "from sklearn.cluster import KMeans\n",
    "from sklearn import cluster\n",
    "import matplotlib.pyplot as plt\n",
    "from matplotlib.colors import ListedColormap\n",
    "import seaborn as sns\n",
    "%matplotlib inline"
   ]
  },
  {
   "cell_type": "code",
   "execution_count": 2,
   "metadata": {
    "collapsed": true
   },
   "outputs": [],
   "source": [
    "yelp_DF = pd.read_csv('/Users/devinarnold/yelp-dataset/checkin_money_merge.csv',\n",
    "                      dtype={'Unamed: 0': int,\n",
    "                           'business_id' : object,\n",
    "                           'stars' : float,\n",
    "                           'review_count' : float,\n",
    "                           'is_open' : float,\n",
    "                           'categories' : object,\n",
    "                           'Median' : float,\n",
    "                           'Mean' : float,\n",
    "                           'Pop' : float,\n",
    "                           'checkins' : float})"
   ]
  },
  {
   "cell_type": "code",
   "execution_count": 3,
   "metadata": {},
   "outputs": [
    {
     "name": "stdout",
     "output_type": "stream",
     "text": [
      "<class 'pandas.core.frame.DataFrame'>\n",
      "RangeIndex: 65499 entries, 0 to 65498\n",
      "Data columns (total 10 columns):\n",
      "Unnamed: 0      65499 non-null int64\n",
      "business_id     65499 non-null object\n",
      "stars           65499 non-null float64\n",
      "review_count    65499 non-null float64\n",
      "is_open         65499 non-null float64\n",
      "categories      65499 non-null object\n",
      "Median          65212 non-null float64\n",
      "Mean            65212 non-null float64\n",
      "Pop             65212 non-null float64\n",
      "checkins        64889 non-null float64\n",
      "dtypes: float64(7), int64(1), object(2)\n",
      "memory usage: 5.0+ MB\n"
     ]
    }
   ],
   "source": [
    "yelp_DF.info()"
   ]
  },
  {
   "cell_type": "code",
   "execution_count": 4,
   "metadata": {},
   "outputs": [
    {
     "data": {
      "text/html": [
       "<div>\n",
       "<style>\n",
       "    .dataframe thead tr:only-child th {\n",
       "        text-align: right;\n",
       "    }\n",
       "\n",
       "    .dataframe thead th {\n",
       "        text-align: left;\n",
       "    }\n",
       "\n",
       "    .dataframe tbody tr th {\n",
       "        vertical-align: top;\n",
       "    }\n",
       "</style>\n",
       "<table border=\"1\" class=\"dataframe\">\n",
       "  <thead>\n",
       "    <tr style=\"text-align: right;\">\n",
       "      <th></th>\n",
       "      <th>Unnamed: 0</th>\n",
       "      <th>business_id</th>\n",
       "      <th>stars</th>\n",
       "      <th>review_count</th>\n",
       "      <th>is_open</th>\n",
       "      <th>categories</th>\n",
       "      <th>Median</th>\n",
       "      <th>Mean</th>\n",
       "      <th>Pop</th>\n",
       "      <th>checkins</th>\n",
       "    </tr>\n",
       "  </thead>\n",
       "  <tbody>\n",
       "    <tr>\n",
       "      <th>0</th>\n",
       "      <td>0</td>\n",
       "      <td>2mroQ_qD_5kLTv88zADnXg</td>\n",
       "      <td>2.5</td>\n",
       "      <td>7.0</td>\n",
       "      <td>1.0</td>\n",
       "      <td>Restaurants;Fast Food;Burgers</td>\n",
       "      <td>NaN</td>\n",
       "      <td>NaN</td>\n",
       "      <td>NaN</td>\n",
       "      <td>1.0</td>\n",
       "    </tr>\n",
       "    <tr>\n",
       "      <th>1</th>\n",
       "      <td>1</td>\n",
       "      <td>2mroQ_qD_5kLTv88zADnXg</td>\n",
       "      <td>2.5</td>\n",
       "      <td>7.0</td>\n",
       "      <td>1.0</td>\n",
       "      <td>Restaurants;Fast Food;Burgers</td>\n",
       "      <td>NaN</td>\n",
       "      <td>NaN</td>\n",
       "      <td>NaN</td>\n",
       "      <td>1.0</td>\n",
       "    </tr>\n",
       "    <tr>\n",
       "      <th>2</th>\n",
       "      <td>2</td>\n",
       "      <td>2mroQ_qD_5kLTv88zADnXg</td>\n",
       "      <td>2.5</td>\n",
       "      <td>7.0</td>\n",
       "      <td>1.0</td>\n",
       "      <td>Restaurants;Fast Food;Burgers</td>\n",
       "      <td>NaN</td>\n",
       "      <td>NaN</td>\n",
       "      <td>NaN</td>\n",
       "      <td>1.0</td>\n",
       "    </tr>\n",
       "    <tr>\n",
       "      <th>3</th>\n",
       "      <td>3</td>\n",
       "      <td>2mroQ_qD_5kLTv88zADnXg</td>\n",
       "      <td>2.5</td>\n",
       "      <td>7.0</td>\n",
       "      <td>1.0</td>\n",
       "      <td>Restaurants;Fast Food;Burgers</td>\n",
       "      <td>NaN</td>\n",
       "      <td>NaN</td>\n",
       "      <td>NaN</td>\n",
       "      <td>1.0</td>\n",
       "    </tr>\n",
       "    <tr>\n",
       "      <th>4</th>\n",
       "      <td>4</td>\n",
       "      <td>2mroQ_qD_5kLTv88zADnXg</td>\n",
       "      <td>2.5</td>\n",
       "      <td>7.0</td>\n",
       "      <td>1.0</td>\n",
       "      <td>Restaurants;Fast Food;Burgers</td>\n",
       "      <td>NaN</td>\n",
       "      <td>NaN</td>\n",
       "      <td>NaN</td>\n",
       "      <td>1.0</td>\n",
       "    </tr>\n",
       "  </tbody>\n",
       "</table>\n",
       "</div>"
      ],
      "text/plain": [
       "   Unnamed: 0             business_id  stars  review_count  is_open  \\\n",
       "0           0  2mroQ_qD_5kLTv88zADnXg    2.5           7.0      1.0   \n",
       "1           1  2mroQ_qD_5kLTv88zADnXg    2.5           7.0      1.0   \n",
       "2           2  2mroQ_qD_5kLTv88zADnXg    2.5           7.0      1.0   \n",
       "3           3  2mroQ_qD_5kLTv88zADnXg    2.5           7.0      1.0   \n",
       "4           4  2mroQ_qD_5kLTv88zADnXg    2.5           7.0      1.0   \n",
       "\n",
       "                      categories  Median  Mean  Pop  checkins  \n",
       "0  Restaurants;Fast Food;Burgers     NaN   NaN  NaN       1.0  \n",
       "1  Restaurants;Fast Food;Burgers     NaN   NaN  NaN       1.0  \n",
       "2  Restaurants;Fast Food;Burgers     NaN   NaN  NaN       1.0  \n",
       "3  Restaurants;Fast Food;Burgers     NaN   NaN  NaN       1.0  \n",
       "4  Restaurants;Fast Food;Burgers     NaN   NaN  NaN       1.0  "
      ]
     },
     "execution_count": 4,
     "metadata": {},
     "output_type": "execute_result"
    }
   ],
   "source": [
    "yelp_DF.head()"
   ]
  },
  {
   "cell_type": "code",
   "execution_count": 5,
   "metadata": {
    "collapsed": true
   },
   "outputs": [],
   "source": [
    "yelp_DF_full = yelp_DF.fillna(0)"
   ]
  },
  {
   "cell_type": "code",
   "execution_count": 6,
   "metadata": {},
   "outputs": [
    {
     "data": {
      "text/plain": [
       "Unnamed: 0      0\n",
       "business_id     0\n",
       "stars           0\n",
       "review_count    0\n",
       "is_open         0\n",
       "categories      0\n",
       "Median          0\n",
       "Mean            0\n",
       "Pop             0\n",
       "checkins        0\n",
       "dtype: int64"
      ]
     },
     "execution_count": 6,
     "metadata": {},
     "output_type": "execute_result"
    }
   ],
   "source": [
    "yelp_DF_full.isnull().sum()"
   ]
  },
  {
   "cell_type": "code",
   "execution_count": 7,
   "metadata": {
    "collapsed": true
   },
   "outputs": [],
   "source": [
    "yelp_DF_full = yelp_DF_full.drop('Unnamed: 0', 1)"
   ]
  },
  {
   "cell_type": "code",
   "execution_count": 8,
   "metadata": {
    "collapsed": true
   },
   "outputs": [],
   "source": [
    "yelp_DF_full.to_csv('/Users/devinarnold/Desktop/checkin_money_merge_full.csv')"
   ]
  },
  {
   "cell_type": "code",
   "execution_count": 9,
   "metadata": {},
   "outputs": [
    {
     "name": "stdout",
     "output_type": "stream",
     "text": [
      "<class 'pandas.core.frame.DataFrame'>\n",
      "RangeIndex: 65499 entries, 0 to 65498\n",
      "Data columns (total 9 columns):\n",
      "business_id     65499 non-null object\n",
      "stars           65499 non-null float64\n",
      "review_count    65499 non-null float64\n",
      "is_open         65499 non-null float64\n",
      "categories      65499 non-null object\n",
      "Median          65499 non-null float64\n",
      "Mean            65499 non-null float64\n",
      "Pop             65499 non-null float64\n",
      "checkins        65499 non-null float64\n",
      "dtypes: float64(7), object(2)\n",
      "memory usage: 4.5+ MB\n"
     ]
    }
   ],
   "source": [
    "yelp_DF_full.info()"
   ]
  },
  {
   "cell_type": "code",
   "execution_count": 10,
   "metadata": {
    "collapsed": true
   },
   "outputs": [],
   "source": [
    "yelp_DF_full = yelp_DF_full.groupby(['business_id', 'categories'], as_index=False)['stars','review_count', 'is_open','Median', 'Mean', 'Pop','checkins'].mean()"
   ]
  },
  {
   "cell_type": "code",
   "execution_count": 11,
   "metadata": {
    "collapsed": true
   },
   "outputs": [],
   "source": [
    "yelp_DF_full.to_csv('/Users/devinarnold/Desktop/checkin_money_merge_final.csv')"
   ]
  },
  {
   "cell_type": "code",
   "execution_count": 12,
   "metadata": {},
   "outputs": [
    {
     "data": {
      "text/plain": [
       "(array([[ 0.        ,  2.06653744,  3.11550115],\n",
       "        [ 0.        ,  0.5       ,  0.70710678],\n",
       "        [ 0.        ,  0.60092521,  1.        ],\n",
       "        ..., \n",
       "        [ 0.        ,  0.33333333,  0.5       ],\n",
       "        [ 0.        ,  0.03349282,  0.50143275],\n",
       "        [ 0.        ,  1.7809394 ,  1.81254867]]), array([[2487, 1460, 1455],\n",
       "        [1150,  365,  655],\n",
       "        [ 187,  768, 2456],\n",
       "        ..., \n",
       "        [2045, 2343, 1354],\n",
       "        [2202, 2285,  529],\n",
       "        [ 993, 1723, 1445]]))"
      ]
     },
     "execution_count": 12,
     "metadata": {},
     "output_type": "execute_result"
    }
   ],
   "source": [
    "knn = KNeighborsClassifier(n_neighbors = 3)\n",
    "#X = yelp_DF_full.iloc[:, np.r_[2,3,5,6,7,8]].values\n",
    "X = yelp_DF_full.iloc[:, np.r_[2,3,5,6,7,8]].values\n",
    "y = yelp_DF_full.iloc[:, 4].values\n",
    "\n",
    "le = LabelEncoder()\n",
    "y = le.fit_transform(y)\n",
    "X_train, X_test, y_train, y_test = train_test_split(X, y, test_size = 0.2, random_state = 0)\n",
    "knn.fit(X_train,y_train)\n",
    "y_prediction = knn.predict(X_test)\n",
    "\n",
    "knn.kneighbors(X)"
   ]
  },
  {
   "cell_type": "code",
   "execution_count": 13,
   "metadata": {
    "scrolled": true
   },
   "outputs": [
    {
     "data": {
      "text/html": [
       "<div>\n",
       "<style>\n",
       "    .dataframe thead tr:only-child th {\n",
       "        text-align: right;\n",
       "    }\n",
       "\n",
       "    .dataframe thead th {\n",
       "        text-align: left;\n",
       "    }\n",
       "\n",
       "    .dataframe tbody tr th {\n",
       "        vertical-align: top;\n",
       "    }\n",
       "</style>\n",
       "<table border=\"1\" class=\"dataframe\">\n",
       "  <thead>\n",
       "    <tr style=\"text-align: right;\">\n",
       "      <th></th>\n",
       "      <th>Predicted Failure</th>\n",
       "      <th>Predicted Success</th>\n",
       "    </tr>\n",
       "  </thead>\n",
       "  <tbody>\n",
       "    <tr>\n",
       "      <th>True Failure</th>\n",
       "      <td>6</td>\n",
       "      <td>82</td>\n",
       "    </tr>\n",
       "    <tr>\n",
       "      <th>True Success</th>\n",
       "      <td>30</td>\n",
       "      <td>655</td>\n",
       "    </tr>\n",
       "  </tbody>\n",
       "</table>\n",
       "</div>"
      ],
      "text/plain": [
       "              Predicted Failure  Predicted Success\n",
       "True Failure                  6                 82\n",
       "True Success                 30                655"
      ]
     },
     "execution_count": 13,
     "metadata": {},
     "output_type": "execute_result"
    }
   ],
   "source": [
    "cm = confusion_matrix(y_test, y_prediction)\n",
    "pd.DataFrame(\n",
    "confusion_matrix(y_test, y_prediction),\n",
    "columns = ['Predicted Failure', 'Predicted Success'],\n",
    "index = ['True Failure', 'True Success'])"
   ]
  },
  {
   "cell_type": "code",
   "execution_count": 14,
   "metadata": {},
   "outputs": [
    {
     "name": "stdout",
     "output_type": "stream",
     "text": [
      "Accuracy of our model is equal 85.51 %.\n"
     ]
    }
   ],
   "source": [
    "accuracy = accuracy_score(y_test, y_prediction) * 100\n",
    "print('Accuracy of our model is equal ' + str(round(accuracy, 2)) + ' %.')"
   ]
  },
  {
   "cell_type": "code",
   "execution_count": 15,
   "metadata": {},
   "outputs": [
    {
     "data": {
      "text/plain": [
       "<matplotlib.figure.Figure at 0x115dcbdd8>"
      ]
     },
     "metadata": {},
     "output_type": "display_data"
    },
    {
     "data": {
      "image/png": "[encoded data removed]",
      "text/plain": [
       "<matplotlib.figure.Figure at 0x115dcbe48>"
      ]
     },
     "metadata": {},
     "output_type": "display_data"
    }
   ],
   "source": [
    "k_list = list(range(1, 50, 2))\n",
    "cv_scores = []\n",
    "for k in k_list:\n",
    "    knn = KNeighborsClassifier(n_neighbors=k)\n",
    "    scores = cross_val_score(knn, X_train, y_train, cv=10, scoring='accuracy')\n",
    "    cv_scores.append(scores.mean())\n",
    "    \n",
    "MSE = [1 - x for x in cv_scores]\n",
    "\n",
    "plt.figure()\n",
    "plt.figure(figsize=(15,10))\n",
    "plt.title('The optimal number of neighbors', fontsize=20, fontweight='bold')\n",
    "plt.xlabel('Number of Neighbors K', fontsize=15)\n",
    "plt.ylabel('Misclassification Error', fontsize=15)\n",
    "sns.set_style(\"whitegrid\")\n",
    "plt.plot(k_list, MSE)\n",
    "\n",
    "plt.show()"
   ]
  },
  {
   "cell_type": "code",
   "execution_count": 16,
   "metadata": {},
   "outputs": [
    {
     "name": "stdout",
     "output_type": "stream",
     "text": [
      "The optimal number of neighbors is 17.\n"
     ]
    }
   ],
   "source": [
    "best_k = k_list[MSE.index(min(MSE))]\n",
    "print(\"The optimal number of neighbors is %d.\" % best_k)"
   ]
  },
  {
   "cell_type": "code",
   "execution_count": 17,
   "metadata": {},
   "outputs": [
    {
     "data": {
      "image/png": "[encoded data removed]",
      "text/plain": [
       "<matplotlib.figure.Figure at 0x115f175c0>"
      ]
     },
     "metadata": {},
     "output_type": "display_data"
    }
   ],
   "source": [
    "df_full = pd.read_csv('/Users/devinarnold/yelp-dataset/averge_groupby.csv', index_col = 0)\n",
    "df = df_full[['review_count', 'checkins']]\n",
    "df_cluster = np.array(df)\n",
    "\n",
    "k = 5\n",
    "kmeans = cluster.KMeans(n_clusters = k)\n",
    "kmeans.fit(df)\n",
    "\n",
    "labels = kmeans.labels_\n",
    "centroids = kmeans.cluster_centers_\n",
    "\n",
    "cmap_bold = ListedColormap(['green','red'])\n",
    "# plot the data observations\n",
    "df_full.plot(kind = 'scatter', x = \"review_count\", y = \"checkins\", c =\"is_open\", marker = 'o', s = 40, edgecolors = 'black', colormap= cmap_bold)\n",
    "\n",
    "for i in range(k):\n",
    "    # select only data observations with cluster label == i\n",
    "    ds = df_cluster[np.where(labels==i)]\n",
    "    # plot the centroids\n",
    "    lines = plt.plot(centroids[i,0],centroids[i,1],'kx', markeredgecolor='blue')\n",
    "    # make the centroid x's bigger\n",
    "    plt.setp(lines,ms=10.0)\n",
    "    plt.setp(lines,mew=4.0)\n",
    "plt.show()"
   ]
  },
  {
   "cell_type": "code",
   "execution_count": 5,
   "metadata": {},
   "outputs": [
    {
     "data": {
      "image/png": "[encoded data removed]",
      "text/plain": [
       "<matplotlib.figure.Figure at 0x112fca588>"
      ]
     },
     "metadata": {},
     "output_type": "display_data"
    }
   ],
   "source": [
    "df = df_full[['stars', 'checkins']]\n",
    "df_cluster = np.array(df)\n",
    "\n",
    "k = 5\n",
    "kmeans = cluster.KMeans(n_clusters = k)\n",
    "kmeans.fit(df)\n",
    "\n",
    "labels = kmeans.labels_\n",
    "centroids = kmeans.cluster_centers_\n",
    "\n",
    "cmap_bold = ListedColormap(['green','red'])\n",
    "# plot the data observations\n",
    "df_full.plot(kind = 'scatter', x = \"stars\", y = \"checkins\", c =\"is_open\", marker = 'o', s = 40, edgecolors = 'black', colormap= cmap_bold)\n",
    "\n",
    "for i in range(k):\n",
    "    # select only data observations with cluster label == i\n",
    "    ds = df_cluster[np.where(labels==i)]\n",
    "    # plot the centroids\n",
    "    lines = plt.plot(centroids[i,0],centroids[i,1],'kx', markeredgecolor='blue')\n",
    "    # make the centroid x's bigger\n",
    "    plt.setp(lines,ms=10.0)\n",
    "    plt.setp(lines,mew=4.0)\n",
    "plt.show()"
   ]
  },
  {
   "cell_type": "code",
   "execution_count": null,
   "metadata": {
    "collapsed": true
   },
   "outputs": [],
   "source": []
  }
 ],
 "metadata": {
  "kernelspec": {
   "display_name": "Python 3",
   "language": "python",
   "name": "python3"
  },
  "language_info": {
   "codemirror_mode": {
    "name": "ipython",
    "version": 3
   },
   "file_extension": ".py",
   "mimetype": "text/x-python",
   "name": "python",
   "nbconvert_exporter": "python",
   "pygments_lexer": "ipython3",
   "version": "3.6.3"
  }
 },
 "nbformat": 4,
 "nbformat_minor": 2
}
