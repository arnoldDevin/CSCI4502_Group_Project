{
 "cells": [
  {
   "cell_type": "code",
   "execution_count": 1,
   "metadata": {
    "collapsed": true
   },
   "outputs": [],
   "source": [
    "#https://blog.sicara.com/naive-bayes-classifier-sklearn-python-example-tips-42d100429e44\n",
    "import pandas as pd\n",
    "import numpy as np\n",
    "import matplotlib.pyplot as plt\n",
    "import time\n",
    "from sklearn.model_selection import train_test_split\n",
    "from sklearn.naive_bayes import GaussianNB, BernoulliNB, MultinomialNB"
   ]
  },
  {
   "cell_type": "code",
   "execution_count": 2,
   "metadata": {},
   "outputs": [
    {
     "name": "stderr",
     "output_type": "stream",
     "text": [
      "/anaconda/lib/python3.6/site-packages/numpy/lib/arraysetops.py:395: FutureWarning: elementwise comparison failed; returning scalar instead, but in the future will perform elementwise comparison\n",
      "  mask |= (ar1 == a)\n"
     ]
    },
    {
     "data": {
      "text/html": [
       "<div>\n",
       "<style>\n",
       "    .dataframe thead tr:only-child th {\n",
       "        text-align: right;\n",
       "    }\n",
       "\n",
       "    .dataframe thead th {\n",
       "        text-align: left;\n",
       "    }\n",
       "\n",
       "    .dataframe tbody tr th {\n",
       "        vertical-align: top;\n",
       "    }\n",
       "</style>\n",
       "<table border=\"1\" class=\"dataframe\">\n",
       "  <thead>\n",
       "    <tr style=\"text-align: right;\">\n",
       "      <th></th>\n",
       "      <th>business_id</th>\n",
       "      <th>stars</th>\n",
       "      <th>review_count</th>\n",
       "      <th>is_open</th>\n",
       "      <th>categories</th>\n",
       "      <th>Median</th>\n",
       "      <th>Mean</th>\n",
       "      <th>Pop</th>\n",
       "      <th>checkins</th>\n",
       "    </tr>\n",
       "  </thead>\n",
       "  <tbody>\n",
       "    <tr>\n",
       "      <th>0</th>\n",
       "      <td>2mroQ_qD_5kLTv88zADnXg</td>\n",
       "      <td>2.5</td>\n",
       "      <td>7.0</td>\n",
       "      <td>1.0</td>\n",
       "      <td>Restaurants;Fast Food;Burgers</td>\n",
       "      <td>0.0</td>\n",
       "      <td>0</td>\n",
       "      <td>0.0</td>\n",
       "      <td>1.0</td>\n",
       "    </tr>\n",
       "    <tr>\n",
       "      <th>1</th>\n",
       "      <td>2mroQ_qD_5kLTv88zADnXg</td>\n",
       "      <td>2.5</td>\n",
       "      <td>7.0</td>\n",
       "      <td>1.0</td>\n",
       "      <td>Restaurants;Fast Food;Burgers</td>\n",
       "      <td>0.0</td>\n",
       "      <td>0</td>\n",
       "      <td>0.0</td>\n",
       "      <td>1.0</td>\n",
       "    </tr>\n",
       "    <tr>\n",
       "      <th>2</th>\n",
       "      <td>2mroQ_qD_5kLTv88zADnXg</td>\n",
       "      <td>2.5</td>\n",
       "      <td>7.0</td>\n",
       "      <td>1.0</td>\n",
       "      <td>Restaurants;Fast Food;Burgers</td>\n",
       "      <td>0.0</td>\n",
       "      <td>0</td>\n",
       "      <td>0.0</td>\n",
       "      <td>1.0</td>\n",
       "    </tr>\n",
       "    <tr>\n",
       "      <th>3</th>\n",
       "      <td>2mroQ_qD_5kLTv88zADnXg</td>\n",
       "      <td>2.5</td>\n",
       "      <td>7.0</td>\n",
       "      <td>1.0</td>\n",
       "      <td>Restaurants;Fast Food;Burgers</td>\n",
       "      <td>0.0</td>\n",
       "      <td>0</td>\n",
       "      <td>0.0</td>\n",
       "      <td>1.0</td>\n",
       "    </tr>\n",
       "    <tr>\n",
       "      <th>4</th>\n",
       "      <td>2mroQ_qD_5kLTv88zADnXg</td>\n",
       "      <td>2.5</td>\n",
       "      <td>7.0</td>\n",
       "      <td>1.0</td>\n",
       "      <td>Restaurants;Fast Food;Burgers</td>\n",
       "      <td>0.0</td>\n",
       "      <td>0</td>\n",
       "      <td>0.0</td>\n",
       "      <td>1.0</td>\n",
       "    </tr>\n",
       "  </tbody>\n",
       "</table>\n",
       "</div>"
      ],
      "text/plain": [
       "              business_id  stars  review_count  is_open  \\\n",
       "0  2mroQ_qD_5kLTv88zADnXg    2.5           7.0      1.0   \n",
       "1  2mroQ_qD_5kLTv88zADnXg    2.5           7.0      1.0   \n",
       "2  2mroQ_qD_5kLTv88zADnXg    2.5           7.0      1.0   \n",
       "3  2mroQ_qD_5kLTv88zADnXg    2.5           7.0      1.0   \n",
       "4  2mroQ_qD_5kLTv88zADnXg    2.5           7.0      1.0   \n",
       "\n",
       "                      categories  Median Mean  Pop  checkins  \n",
       "0  Restaurants;Fast Food;Burgers     0.0    0  0.0       1.0  \n",
       "1  Restaurants;Fast Food;Burgers     0.0    0  0.0       1.0  \n",
       "2  Restaurants;Fast Food;Burgers     0.0    0  0.0       1.0  \n",
       "3  Restaurants;Fast Food;Burgers     0.0    0  0.0       1.0  \n",
       "4  Restaurants;Fast Food;Burgers     0.0    0  0.0       1.0  "
      ]
     },
     "execution_count": 2,
     "metadata": {},
     "output_type": "execute_result"
    }
   ],
   "source": [
    "# df = pd.read_csv('decisiontree_fit.csv', index_col=0)\n",
    "df = pd.read_csv('../../yelp-dataset/checkin_money_merge.csv', \n",
    "                     dtype={'Unamed: 0': int,\n",
    "                           'business_id' : object,\n",
    "                           'stars' : float,\n",
    "                           'review_count' : float,\n",
    "                           'is_open' : float,\n",
    "                           'categories' : object,\n",
    "                           'Median' : float,\n",
    "                           'Mean' : object,\n",
    "                           'Pop' : float,\n",
    "                           'checkins' : float}, index_col=0)\n",
    "df = df.fillna(0);\n",
    "df.head()"
   ]
  },
  {
   "cell_type": "code",
   "execution_count": 3,
   "metadata": {
    "collapsed": true
   },
   "outputs": [],
   "source": [
    "df = df[['stars', 'review_count', 'Median', 'Pop', 'checkins', 'is_open']]\n",
    "df = df.dropna()"
   ]
  },
  {
   "cell_type": "code",
   "execution_count": 4,
   "metadata": {
    "collapsed": true
   },
   "outputs": [],
   "source": [
    "X_train, X_test = train_test_split(df, test_size = 0.5, random_state =1) "
   ]
  },
  {
   "cell_type": "code",
   "execution_count": 5,
   "metadata": {
    "collapsed": true
   },
   "outputs": [],
   "source": [
    "gnb = GaussianNB()"
   ]
  },
  {
   "cell_type": "code",
   "execution_count": 6,
   "metadata": {
    "collapsed": true
   },
   "outputs": [],
   "source": [
    "used_features = ['stars', 'review_count', 'Median', 'Pop', 'checkins',]"
   ]
  },
  {
   "cell_type": "code",
   "execution_count": 7,
   "metadata": {},
   "outputs": [
    {
     "data": {
      "text/plain": [
       "GaussianNB(priors=None)"
      ]
     },
     "execution_count": 7,
     "metadata": {},
     "output_type": "execute_result"
    }
   ],
   "source": [
    "gnb.fit(\n",
    "    X_train[used_features].values,\n",
    "    X_train[\"is_open\"]\n",
    ")"
   ]
  },
  {
   "cell_type": "code",
   "execution_count": 8,
   "metadata": {
    "collapsed": true
   },
   "outputs": [],
   "source": [
    "y_pred = gnb.predict(X_test[used_features])"
   ]
  },
  {
   "cell_type": "code",
   "execution_count": 9,
   "metadata": {},
   "outputs": [
    {
     "name": "stdout",
     "output_type": "stream",
     "text": [
      "Number of mislabeled points out of a total 1985703 points : 302148, performance 84.78%\n"
     ]
    }
   ],
   "source": [
    "print(\"Number of mislabeled points out of a total {} points : {}, performance {:05.2f}%\"\n",
    "      .format(\n",
    "          X_test.shape[0],\n",
    "          (X_test[\"is_open\"] != y_pred).sum(),\n",
    "          100*(1-(X_test[\"is_open\"] != y_pred).sum()/X_test.shape[0])\n",
    "))"
   ]
  },
  {
   "cell_type": "code",
   "execution_count": 10,
   "metadata": {},
   "outputs": [
    {
     "name": "stdout",
     "output_type": "stream",
     "text": [
      "Success prob = 84.75%, Failure prob = 15.25%\n"
     ]
    }
   ],
   "source": [
    "mean_success=np.mean(X_train[\"is_open\"])\n",
    "mean_failure=1-mean_success\n",
    "print(\"Success prob = {:03.2f}%, Failure prob = {:03.2f}%\"\n",
    "      .format(100*mean_success,100*mean_failure))"
   ]
  },
  {
   "cell_type": "code",
   "execution_count": 11,
   "metadata": {},
   "outputs": [
    {
     "name": "stdout",
     "output_type": "stream",
     "text": [
      "mean_stars_success= 3.58\n",
      "std_stars_success = 0.79\n",
      "mean_stars_failure = 3.32\n",
      "std_stars_failure = 1.06\n"
     ]
    }
   ],
   "source": [
    "\n",
    "mean_stars_success = np.mean(X_train[X_train[\"is_open\"]==1][\"stars\"])\n",
    "std_stars_success = np.std(X_train[X_train[\"is_open\"]==1][\"stars\"])\n",
    "mean_stars_failure = np.mean(X_train[X_train[\"is_open\"]==0][\"stars\"])\n",
    "std_stars_failure = np.std(X_train[X_train[\"is_open\"]==0][\"stars\"])\n",
    "\n",
    "print(\"mean_stars_success= {:03.2f}\".format(mean_stars_success))\n",
    "print(\"std_stars_success = {:03.2f}\".format(std_stars_success))\n",
    "print(\"mean_stars_failure = {:03.2f}\".format(mean_stars_failure))\n",
    "print(\"std_stars_failure = {:03.2f}\".format(std_stars_failure))"
   ]
  },
  {
   "cell_type": "code",
   "execution_count": null,
   "metadata": {
    "collapsed": true
   },
   "outputs": [],
   "source": []
  }
 ],
 "metadata": {
  "kernelspec": {
   "display_name": "Python 3",
   "language": "python",
   "name": "python3"
  },
  "language_info": {
   "codemirror_mode": {
    "name": "ipython",
    "version": 3
   },
   "file_extension": ".py",
   "mimetype": "text/x-python",
   "name": "python",
   "nbconvert_exporter": "python",
   "pygments_lexer": "ipython3",
   "version": "3.6.1"
  }
 },
 "nbformat": 4,
 "nbformat_minor": 2
}
